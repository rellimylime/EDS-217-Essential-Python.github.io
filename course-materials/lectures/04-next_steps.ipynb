{
 "cells": [
  {
   "cell_type": "markdown",
   "metadata": {
    "slideshow": {
     "slide_type": "slide"
    }
   },
   "source": [
    "# How to move from a `beginner` to a `more advanced` python user\n",
    "\n",
    "> Taken from [Talk Python to Me, Episode #427](https://talkpython.fm/episodes/show/427/10-tips-and-ideas-for-the-beginner-to-expert-python-journey), with some modifications.\n",
    "\n",
    "> Guest: Eric Matthes, author of [Python Crash Course](https://www.amazon.com/Python-Crash-Course-Eric-Matthes-ebook/dp/B09WJX22TV?ref_=ast_author_mpb),(#1 Book on Amazon in the category of Open Source Programming.)"
   ]
  },
  {
   "cell_type": "markdown",
   "metadata": {
    "slideshow": {
     "slide_type": "slide"
    }
   },
   "source": [
    "# 10 tips to move from beginner to expert"
   ]
  },
  {
   "cell_type": "markdown",
   "metadata": {
    "slideshow": {
     "slide_type": "slide"
    }
   },
   "source": [
    "## 1. Know your goals \n",
    "\n",
    "- Why are you learning python?\n",
    "\n",
    "- Why are you learning data science?\n",
    "    "
   ]
  },
  {
   "cell_type": "markdown",
   "metadata": {
    "slideshow": {
     "slide_type": "slide"
    }
   },
   "source": [
    "## 2. Have a project in mind \n",
    "\n",
    "- What do you want to do with it?\n",
    "\n",
    "- Use python to solve a problem you are interested in solving.\n",
    "\n",
    "- Don't be afraid to work on personal projects."
   ]
  },
  {
   "cell_type": "markdown",
   "metadata": {
    "slideshow": {
     "slide_type": "subslide"
    }
   },
   "source": [
    "### Some examples of my personal \"problem-solving\" projects\n",
    "\n",
    "[Biobib](https://github.com/kcaylor/biobib) - Python code to make my CV/Biobib from a google sheets/.csv file.    \n",
    "\n",
    "[Triumph](https://github.com/kcaylor/triumph) - Python notebooks for a 1959 Triumph TR3A EV conversion project.\n",
    "\n",
    "[Stoplight](https://github.com/kcaylor/stoplight) - A simple python webapp for monitoring EDS217 course pace."
   ]
  },
  {
   "cell_type": "markdown",
   "metadata": {
    "slideshow": {
     "slide_type": "slide"
    }
   },
   "source": [
    "## 3. Don’t limit your learning to what’s needed for your project \n",
    "\n",
    "- Learn more than you need to know...\n",
    "\n",
    "    Math: [3Blue1Brown](https://www.youtube.com/@3blue1brown)\n",
    "\n",
    "    Python Data Science: [PyData](https://www.youtube.com/@PyDataTV)\n",
    "    \n",
    "    Data Visualization: [Edward Tufte](https://www.amazon.com/stores/Edward-R.-Tufte/author/B000APET3Y),  [Cole Nussbaumer-Knaflic](https://www.amazon.com/stores/Cole-Nussbaumer-Knaflic/author/B013RK32CW), [David McCandless](https://www.amazon.com/stores/David-McCandless/author/B002HYXAUY)\n",
    "    \n",
    "- Be curious about what's _possible_, not just what's _necessary_.\n",
    "    \n",
    "    ...but try to use less than you think you need\n",
    "    \n"
   ]
  },
  {
   "cell_type": "markdown",
   "metadata": {
    "slideshow": {
     "slide_type": "slide"
    }
   },
   "source": [
    "## 4. Read good code \n",
    "\n",
    "- Libraries and packages have great examples of code!\n",
    "\n",
    "- Read the _code_ (not just docs) of the packages you use.\n",
    "\n",
    "    > It's okay if you can't understand it all. Often you can understand intent, but not what the code does. \n",
    "    How would you have done it? \n",
    "    Why did the author select a different approach?\n",
    "\n",
    "- Github is a great place to find code.\n",
    "\n",
    "    \n"
   ]
  },
  {
   "cell_type": "markdown",
   "metadata": {
    "slideshow": {
     "slide_type": "slide"
    }
   },
   "source": [
    "## 5. Know your tools\n",
    "\n",
    "- Learn how to use your IDE ([VSCode](https://www.youtube.com/results?search_query=VSCode+tutorial))\n",
    "\n",
    "- Learn how to use your package manager ([conda](https://www.youtube.com/results?search_query=conda+tutorial), [mamba](https://mamba.readthedocs.io/en/latest/))\n",
    "\n",
    "- Learn how to use your shell ([bash](https://www.youtube.com/results?search_query=bash+tutorial), [powershell](https://learn.microsoft.com/en-us/training/modules/introduction-to-powershell/), [WSL](https://learn.microsoft.com/en-us/windows/wsl/tutorials/wsl-vscode))\n",
    "\n",
    "- Learn how to use your version control system ([git](https://www.youtube.com/results?search_query=git+tutorial), [Github Desktop](https://docs.github.com/en/desktop/installing-and-configuring-github-desktop/overview/getting-started-with-github-desktop))\n"
   ]
  },
  {
   "cell_type": "markdown",
   "metadata": {
    "slideshow": {
     "slide_type": "slide"
    }
   },
   "source": [
    "## 6. Learn how to test your code \n",
    "\n",
    "- Testing code is part of writing code, and testing is a great way to learn!\n",
    "- Focus on [end-to-end](https://en.wikipedia.org/wiki/End-to-end_testing) (E2E) tests (rather than unit tests)\n",
    "\n",
    "    - **Unit tests:** \n",
    "        \n",
    "        Does it work the way you expect it to (operation-centric)?\n",
    "        \n",
    "    - **End-to-end test:** \n",
    "        \n",
    "        Does it do what you want it to do (output-centric)?\n",
    "\n",
    "[Testing for data science](https://www.youtube.com/watch?v=Da-FL_1i6ps)\n",
    "\n",
    "[Testing with PyTest for data science](https://www.youtube.com/watch?v=dY1nNtDTruE)"
   ]
  },
  {
   "cell_type": "markdown",
   "metadata": {
    "slideshow": {
     "slide_type": "slide"
    }
   },
   "source": [
    "## 7. Know what’s good enough for any given project \n",
    "\n",
    "### You're not writing code for a self-driving car or a pacemaker.\n",
    "\n",
    "- Don't over-engineer your code.\n",
    "\n",
    "- Don't over-optimize your code.\n",
    "\n",
    "- Simple is better than complex.\n",
    "\n"
   ]
  },
  {
   "cell_type": "markdown",
   "metadata": {
    "slideshow": {
     "slide_type": "slide"
    }
   },
   "source": [
    "## 8. Embrace refactoring \n",
    "\n",
    "**Refactoring** is the process of changing your code without changing its behavior.\n",
    "\n",
    "> Ship of Theseus: If you replace every part of a ship, is it still the same ship?\n",
    "\n",
    "- As you learn more, you will find better ways to do things.\n",
    "\n",
    "- Don't be afraid to change your code.\n",
    "\n",
    "- Tests (especially end-to-end tests) help you refactor with confidence.\n",
    "\n",
    "- \"Code smells\"... if it smells bad, it probably is bad.\n",
    "    - [Code Smells](https://sourcemaking.com/refactoring/smells)\n",
    "    - Comments can be a code smell; they can be a sign that your code is not clear enough."
   ]
  },
  {
   "cell_type": "markdown",
   "metadata": {
    "slideshow": {
     "slide_type": "slide"
    }
   },
   "source": [
    "## 9. Write things down \n",
    "\n",
    "#### Keep an ideas notebook\n",
    "\n",
    "- Write down ideas for projects\n",
    "\n",
    "- Write down ideas for code\n",
    "\n",
    "#### Write comments to yourself and others\n",
    "\n",
    "#### Write documentation\n",
    "    \n",
    "- [Code Documentation in Python](https://realpython.com/documenting-python-code/)\n",
    "\n",
    "#### Write down questions (use your tools; github issues, etc...)"
   ]
  },
  {
   "cell_type": "markdown",
   "metadata": {
    "slideshow": {
     "slide_type": "slide"
    }
   },
   "source": [
    "## 10. Go meet people!\n",
    "\n",
    "### The Python (and Data Science) community is great!"
   ]
  },
  {
   "cell_type": "markdown",
   "metadata": {
    "slideshow": {
     "slide_type": "subslide"
    }
   },
   "source": [
    "#### Go to Python & Data Science meetups.\n",
    "\n",
    "- [Central Coast Python](https://www.meetup.com/central-coast-python/)"
   ]
  },
  {
   "cell_type": "markdown",
   "metadata": {
    "slideshow": {
     "slide_type": "subslide"
    }
   },
   "source": [
    "#### Go to python and data science conferences.\n",
    "\n",
    "- [PyCon](https://us.pycon.org/) 2024 & 2025 will be in Pittsburgh, PA\n",
    "- [PyData](https://pydata.org) (Conferences all over the world)"
   ]
  },
  {
   "cell_type": "markdown",
   "metadata": {
    "slideshow": {
     "slide_type": "subslide"
    }
   },
   "source": [
    "#### Go to hackathons.\n",
    "\n",
    "- [SB Hacks](https://www.sbhacks.com/) (UCSB)\n",
    "- [MLH (Major League Hacking)](https://mlh.io/seasons/2024/events)\n",
    "- [Hackathon.com](https://www.hackathon.com/) (Hackathons all over the world)"
   ]
  }
 ],
 "metadata": {
  "celltoolbar": "Slideshow",
  "kernelspec": {
   "display_name": "Python 3 (ipykernel)",
   "language": "python",
   "name": "python3"
  },
  "language_info": {
   "codemirror_mode": {
    "name": "ipython",
    "version": 3
   },
   "file_extension": ".py",
   "mimetype": "text/x-python",
   "name": "python",
   "nbconvert_exporter": "python",
   "pygments_lexer": "ipython3",
   "version": "3.10.12"
  }
 },
 "nbformat": 4,
 "nbformat_minor": 2
}