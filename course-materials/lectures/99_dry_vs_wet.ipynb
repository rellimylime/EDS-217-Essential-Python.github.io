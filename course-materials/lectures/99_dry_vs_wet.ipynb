{
 "cells": [
  {
   "cell_type": "raw",
   "metadata": {},
   "source": [
    "---\nformat: revealjs\njupyter: eds217_2025\n---"
   ]
  },
  {
   "cell_type": "markdown",
   "metadata": {
    "slideshow": {
     "slide_type": "slide"
    }
   },
   "source": [
    "# EDS 217, Lecture 4: DRY \ud83c\udfdc vs. WET \ud83c\udf0a\n",
    "\n",
    "![dry.jpg](assets/dry.jpg)"
   ]
  },
  {
   "cell_type": "markdown",
   "metadata": {
    "slideshow": {
     "slide_type": "slide"
    }
   },
   "source": [
    "# DRY Programming\n",
    "\n"
   ]
  },
  {
   "cell_type": "markdown",
   "metadata": {
    "slideshow": {
     "slide_type": "fragment"
    }
   },
   "source": [
    "\n",
    "The idea of DRY is to **reduce the repetition of code**. "
   ]
  },
  {
   "cell_type": "markdown",
   "metadata": {
    "slideshow": {
     "slide_type": "subslide"
    }
   },
   "source": [
    "\n",
    "## DRY vs. WET\n"
   ]
  },
  {
   "cell_type": "markdown",
   "metadata": {
    "slideshow": {
     "slide_type": "fragment"
    }
   },
   "source": [
    "\n",
    "If DRY means \"Don't Repeat Yourself\"... then WET means \"Write Every Time\", or \"We Enjoy Typing\"\n",
    "\n",
    "\n",
    "Don't write WET code!\n",
    "\n"
   ]
  },
  {
   "cell_type": "markdown",
   "metadata": {
    "slideshow": {
     "slide_type": "subslide"
    }
   },
   "source": [
    "### How to DRY out your code\n",
    "\n",
    "We write DRY code - or we DRY out WET code - through a combination of _abstraction_ and _normalization_.\n",
    "\n"
   ]
  },
  {
   "cell_type": "markdown",
   "metadata": {
    "slideshow": {
     "slide_type": "slide"
    }
   },
   "source": [
    "## Abstraction\n",
    "\n",
    "The \"principle of abstraction\" aims to _reduce duplication of information_ (usually code) in a program whenever it is practical to do so:\n",
    "\n",
    "\"Each significant piece of functionality in a program should be implemented in just one place in the source code. Where similar functions are carried out by distinct pieces of code, it is generally beneficial to combine them into one by abstracting out the varying parts.\"\n",
    "\n",
    "Benjamin C. Pierce - [Types and Programming Languages](https://en.wikipedia.org/wiki/Types_and_Programming_Languages)\n",
    "\n"
   ]
  },
  {
   "cell_type": "markdown",
   "metadata": {
    "slideshow": {
     "slide_type": "subslide"
    }
   },
   "source": [
    "### Abstraction Example\n",
    "\n",
    "The easiest way to understand abstraction is to see it in action. Here's an example that you are already familiar with; determining the energy emitted by an object as a function of its temperature:\n",
    "\n",
    "$Q = \\epsilon  \\sigma  T^4$\n",
    "\n",
    "where $\\epsilon$ is an object's emmissivity, $\\sigma$ is the Stefan-Boltzmann constant, and $T$ is temperature in degrees Kelvin. "
   ]
  },
  {
   "cell_type": "markdown",
   "metadata": {
    "slideshow": {
     "slide_type": "subslide"
    }
   },
   "source": [
    "### Abstraction Example\n",
    "\n",
    "\n",
    "We might write the following code to determine $Q$:"
   ]
  },
  {
   "cell_type": "code",
   "execution_count": null,
   "metadata": {
    "slideshow": {
     "slide_type": "fragment"
    }
   },
   "outputs": [],
   "source": [
    "# How much energy is emitted by an object at a certain temperature?\n",
    "\u03b5 = 1      # emissivity [-]\n",
    "\u03c3 = 5.67e-8  # stefan-boltzmann constant [W/T^4]\n",
    "T_C = 40         # temperature [deg-C]\n",
    "\n",
    "Q = \u03b5 * \u03c3 * (T_C+273.15)**4\n",
    "print(Q)"
   ]
  },
  {
   "cell_type": "markdown",
   "metadata": {
    "slideshow": {
     "slide_type": "subslide"
    }
   },
   "source": [
    "### Abstraction Example\n",
    "\n",
    "But this code is going to get very WET very fast."
   ]
  },
  {
   "cell_type": "code",
   "execution_count": null,
   "metadata": {
    "slideshow": {
     "slide_type": "fragment"
    }
   },
   "outputs": [],
   "source": [
    "# How much energy is emitted by an object at a certain temperature?\n",
    "\u03b5 = 1      # emissivity [-]\n",
    "\u03c3 = 5.67e-8  # stefan-boltzmann constant [W/m^2/K^4]\n",
    "T_C = 40         # temperature [deg-C]\n",
    "\n",
    "Q = \u03b5 * \u03c3 * (T_C+273.15)**4\n",
    "\n",
    "# New T value? Different epsilon? What about a bunch of T values?\n",
    "T_2 = 30\n",
    "\n",
    "Q2 = \u03b5 * \u03c3 * (T_2+273.15)**4\n",
    "\n"
   ]
  },
  {
   "cell_type": "markdown",
   "metadata": {
    "slideshow": {
     "slide_type": "subslide"
    }
   },
   "source": [
    "### Abstraction Example\n",
    "\n",
    "\n",
    "Here's a DRY version obtained using abstraction:"
   ]
  },
  {
   "cell_type": "code",
   "execution_count": null,
   "metadata": {
    "slideshow": {
     "slide_type": "fragment"
    }
   },
   "outputs": [],
   "source": [
    "# energy.py contains a function to calculate Q from T \n",
    "from energy import Q \n",
    "\n",
    "T = 40 # deg-C\n",
    "E = Q(T, unit='C')"
   ]
  },
  {
   "cell_type": "markdown",
   "metadata": {
    "slideshow": {
     "slide_type": "subslide"
    }
   },
   "source": [
    "### Abstraction Summary, Part 1\n",
    "\n",
    "- We keep our code DRY by using _abstraction_. In addition to functions, python also provides `Classes` as another important way to create abstractions. \n",
    "\n",
    "- **Functions** and **Classes** are the subject of this tomorrow's exercise.\n",
    "\n"
   ]
  },
  {
   "cell_type": "markdown",
   "metadata": {
    "slideshow": {
     "slide_type": "subslide"
    }
   },
   "source": [
    "### Abstraction Summary, Part 2\n",
    "\n",
    "- In general, the process of keeping code DRY through successive layers of abstraction is known as **re-factoring**. \n",
    "\n",
    "- The _\"Rule of Three\"_ states that you should probably consider refactoring (i.e. adding abstraction) whenever you find your code doing the same thing three times or more.\n",
    "\n"
   ]
  },
  {
   "cell_type": "markdown",
   "metadata": {
    "slideshow": {
     "slide_type": "slide"
    }
   },
   "source": [
    "## Normalization\n",
    "\n",
    "\n",
    "Normalization is the process of structuring data in order to reduce redundancy and improve integrity. \n",
    "\n"
   ]
  },
  {
   "cell_type": "markdown",
   "metadata": {
    "slideshow": {
     "slide_type": "subslide"
    }
   },
   "source": [
    "## Normalization\n",
    "\n",
    "\n",
    "Some of the key principles of Normalization include:\n",
    "\n",
    "- All data have a `Primary Key`, which uniquely identifies a record. Usually, in python, this key is called an `Index`.\n",
    "- `Atomic` columns, meaning entries contain a single value. This means no _collections_ should appear as elements within a data table. (i.e. \"cells\" in structured data should not contain lists!)\n",
    "- No _transitive_ dependencies. This means that there should not be implicit associations between columns within data tables. \n",
    "\n"
   ]
  },
  {
   "cell_type": "markdown",
   "metadata": {
    "slideshow": {
     "slide_type": "subslide"
    }
   },
   "source": [
    "### Primary Keys\n",
    "\n",
    "This form of normalization is easy to obtain, as the idea of an `Index` is embedded in almost any Python data structure, and a core component of data structures witin `pandas`, which is the most popular data science library in python (coming next week!).\n"
   ]
  },
  {
   "cell_type": "markdown",
   "metadata": {
    "slideshow": {
     "slide_type": "subslide"
    }
   },
   "source": [
    "### Primary Keys\n"
   ]
  },
  {
   "cell_type": "code",
   "execution_count": null,
   "metadata": {
    "slideshow": {
     "slide_type": "fragment"
    }
   },
   "outputs": [],
   "source": [
    "# All DataFrames in pandas are created with an index (i.e unique primary key)\n",
    "import pandas as pd\n",
    "average_high_temps = [18.3, 18.3, 18.9, 20.6, 21.1, 21.7,\n",
    "                      23.9, 24.4, 23.9, 22.8, 20.6, 18.3]\n",
    "sb_high_temp = pd.DataFrame(\n",
    "    average_high_temps, # This list will become a single column of values\n",
    "    columns=['Average_High_Temperature'] # This is the name of the column\n",
    ") # NOTE: use sb_high_temp.head() py->month_list\n",
    "#sb_high_temp.index = ['January', 'February', 'March', 'April', 'May', 'June', 'July', 'August', 'September', 'October', 'November', 'December']\n",
    "sb_high_temp.head()"
   ]
  },
  {
   "cell_type": "markdown",
   "metadata": {
    "slideshow": {
     "slide_type": "subslide"
    }
   },
   "source": [
    "### Atomic Columns\n",
    "\n",
    "The idea of atomic columns is that each element in a data structure should contain a unique value. This requirement is harder to obtain and you will sometimes violate it.\n"
   ]
  },
  {
   "cell_type": "code",
   "execution_count": null,
   "metadata": {
    "slideshow": {
     "slide_type": "fragment"
    }
   },
   "outputs": [],
   "source": [
    "# import pandas as pd\n",
    "average_high_temps = [18.3, 18.3, 18.9, 20.6, 21.1, 21.7, 23.9, 24.4, 23.9, 22.8, 20.6, 18.3]\n",
    "average_rainfall = [110.7, 119.1, 74.2, 31.5, 8.4, 2.3, 0.5, 1.3, 3.6, 22.9, 45.5, 77.2]\n",
    "\n",
    "# THIS DATAFRAME IS NOT ATOMIC. EACH ELEMENT IN THE COLUMN IS A LIST.\n",
    "sb_climate = pd.DataFrame([\n",
    "    [average_high_temps, # The first column will contain a list.\n",
    "     average_rainfall]], # The second column will also contain a list.\n",
    "    columns=['Monthly Average Temp', 'Monthly Average Rainfall'] # Column names\n",
    ")\n",
    "sb_climate.head()"
   ]
  },
  {
   "cell_type": "markdown",
   "metadata": {
    "slideshow": {
     "slide_type": "subslide"
    }
   },
   "source": [
    "### Atomic Columns\n",
    "\n",
    "The idea of atomic columns is that each element in a data structure should contain a unique value. This requirement is harder to obtain and you will sometimes violate it.\n"
   ]
  },
  {
   "cell_type": "code",
   "execution_count": null,
   "metadata": {
    "slideshow": {
     "slide_type": "fragment"
    }
   },
   "outputs": [],
   "source": [
    "import pandas as pd\n",
    "average_high_temps = [18.3, 18.3, 18.9, 20.6, 21.1, 21.7, 23.9, 24.4, 23.9, 22.8, 20.6, 18.3]\n",
    "average_rainfall = [110.7, 119.1, 74.2, 31.5, 8.4, 2.3, 0.5, 1.3, 3.6, 22.9, 45.5, 77.2]\n",
    "\n",
    "# THIS DATAFRAME IS ATOMIC. EACH ELEMENT IN THE COLUMN IS A SINGLE VALUE.\n",
    "sb_climate = pd.DataFrame({ # Using a dict to create the data frame.\n",
    "    'Average_High_Temperature':average_high_temps, # This is the first column\n",
    "    'Average_Rainfall':average_rainfall # This is the second column\n",
    "})\n",
    "sb_climate.index = ['January', 'February', 'March', 'April', 'May', 'June', 'July', 'August', 'September', 'October', 'November', 'December']\n",
    "sb_climate.head()"
   ]
  },
  {
   "cell_type": "markdown",
   "metadata": {
    "slideshow": {
     "slide_type": "subslide"
    }
   },
   "source": [
    "### Transitive  Dependencies\n",
    "\n",
    "The idea of transitive dependencies is the inclusion of multiple associated attributes within the same data structure. \n",
    "\n",
    "- Transitive dependencies make _updating_ data very difficult, but they can be helpful in _analyzying_ data. \n",
    "\n",
    "- So we should only introduce them in data that we will not be editing. \n",
    "\n",
    "Usually environmental data, and especially timeseries, are rarely modified after creation. So we don't need to worry as much about these dependencies.\n",
    "\n",
    "For example, contrast a data record of \"temperatures through time\" to a data record of \"user contacts in a social network\".\n"
   ]
  },
  {
   "cell_type": "markdown",
   "metadata": {
    "slideshow": {
     "slide_type": "subslide"
    }
   },
   "source": [
    "### Transitive  Dependencies\n",
    "\n",
    "The idea of transitive dependencies is the inclusion of multiple associated attributes within the same data structure. \n"
   ]
  },
  {
   "cell_type": "code",
   "execution_count": null,
   "metadata": {
    "slideshow": {
     "slide_type": "fragment"
    }
   },
   "outputs": [],
   "source": [
    "import pandas as pd\n",
    "average_high_temps = [18.3, 18.3, 18.9, 20.6, 21.1, 21.7, 23.9, 24.4, 23.9, 22.8, 20.6, 18.3]\n",
    "average_rainfall = [110.7, 119.1, 74.2, 31.5, 8.4, 2.3, 0.5, 1.3, 3.6, 22.9, 45.5, 77.2]\n",
    "\n",
    "# TRANSITIVE ASSOCIATIONS EXIST BETWEEN MONTHS AND SEASONS IN THIS DATAFRAME:\n",
    "month = ['January', 'February', 'March', 'April', 'May', 'June', 'July', 'August', 'September', 'October', 'November', 'December']\n",
    "season = ['Winter', 'Winter', 'Spring', 'Spring', 'Spring', 'Summer', 'Summer', 'Summer', 'Fall', 'Fall', 'Fall', 'Winter']\n",
    "sb_climate = pd.DataFrame({ # Using a dict to create the data frame.\n",
    "    'Month': month,         # Adding month as the first column of the data frame\n",
    "    'Season': season,       # Adding the season for each month (this is a transitive dependency)\n",
    "    'Avg_High_Temp':average_high_temps, # This is the third column\n",
    "    'Avg_Rain':average_rainfall         # This is the fourth column\n",
    "})\n",
    "sb_climate.head()"
   ]
  },
  {
   "cell_type": "markdown",
   "metadata": {
    "slideshow": {
     "slide_type": "subslide"
    }
   },
   "source": [
    "### Normalization Summary\n",
    "\n",
    "In general, for data analysis, basic normalization is handled for you.\n",
    "\n",
    "- For _read only_ data with fixed associations, a lack of normalization is manageable. \n",
    "\n",
    "- However, many analyses are easier if you structure your data in ways that are as normalized as possible.\n",
    "\n",
    "- If you are _collecting_ data then it is important to develop an organization structure that is normalized. \n",
    "\n",
    "\n"
   ]
  },
  {
   "cell_type": "markdown",
   "metadata": {
    "slideshow": {
     "slide_type": "slide"
    }
   },
   "source": [
    "## The End"
   ]
  }
 ],
 "metadata": {
  "celltoolbar": "Slideshow",
  "kernelspec": {
   "display_name": "Python 3 (ipykernel)",
   "language": "python",
   "name": "python3"
  },
  "language_info": {
   "codemirror_mode": {
    "name": "ipython",
    "version": 3
   },
   "file_extension": ".py",
   "mimetype": "text/x-python",
   "name": "python",
   "nbconvert_exporter": "python",
   "pygments_lexer": "ipython3",
   "version": "3.10.5"
  }
 },
 "nbformat": 4,
 "nbformat_minor": 4
}